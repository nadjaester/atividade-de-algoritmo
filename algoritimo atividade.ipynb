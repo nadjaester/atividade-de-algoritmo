{
 "cells": [
  {
   "cell_type": "markdown",
   "metadata": {},
   "source": [
    "Functions and Methods"
   ]
  },
  {
   "cell_type": "code",
   "execution_count": 14,
   "metadata": {},
   "outputs": [],
   "source": [
    "def funcaoLeitura():\n",
    "    for i in range(5):\n",
    "        print('Número ', i)\n",
    "\n"
   ]
  },
  {
   "cell_type": "code",
   "execution_count": 43,
   "metadata": {},
   "outputs": [],
   "source": [
    "def funcaoLeitura():\n",
    "    for num in [1,2,3,4,5]:\n",
    "        print('Número ', num)"
   ]
  },
  {
   "cell_type": "code",
   "execution_count": 44,
   "metadata": {},
   "outputs": [
    {
     "name": "stdout",
     "output_type": "stream",
     "text": [
      "Número  1\n",
      "Número  2\n",
      "Número  3\n",
      "Número  4\n",
      "Número  5\n"
     ]
    }
   ],
   "source": [
    "funcaoLeitura()"
   ]
  },
  {
   "cell_type": "code",
   "execution_count": 8,
   "metadata": {},
   "outputs": [],
   "source": [
    "#Função para somar dois números\n",
    "def addNum(n1,n2):\n",
    "    print('O primeiro número é: ', n1)\n",
    "    print('O segundo número é: ', n2)\n",
    "    print('A soma número é: ', n1 + n2)"
   ]
  },
  {
   "cell_type": "code",
   "execution_count": 9,
   "metadata": {},
   "outputs": [
    {
     "name": "stdout",
     "output_type": "stream",
     "text": [
      "O primeiro número é:  2\n",
      "O segundo número é:  3\n",
      "A soma número é:  5\n"
     ]
    }
   ],
   "source": [
    "addNum(2,3)"
   ]
  },
  {
   "cell_type": "code",
   "execution_count": 10,
   "metadata": {},
   "outputs": [
    {
     "name": "stdout",
     "output_type": "stream",
     "text": [
      "O primeiro número é:  10\n",
      "O segundo número é:  4\n",
      "A soma número é:  14\n"
     ]
    }
   ],
   "source": [
    "addNum(10,4)"
   ]
  },
  {
   "cell_type": "code",
   "execution_count": 11,
   "metadata": {},
   "outputs": [
    {
     "ename": "TypeError",
     "evalue": "addNum() missing 2 required positional arguments: 'n1' and 'n2'",
     "output_type": "error",
     "traceback": [
      "\u001b[1;31m---------------------------------------------------------------------------\u001b[0m",
      "\u001b[1;31mTypeError\u001b[0m                                 Traceback (most recent call last)",
      "Cell \u001b[1;32mIn[11], line 1\u001b[0m\n\u001b[1;32m----> 1\u001b[0m \u001b[43maddNum\u001b[49m\u001b[43m(\u001b[49m\u001b[43m)\u001b[49m\n",
      "\u001b[1;31mTypeError\u001b[0m: addNum() missing 2 required positional arguments: 'n1' and 'n2'"
     ]
    }
   ],
   "source": [
    "addNum() #da erro, pois não usou párametros"
   ]
  },
  {
   "cell_type": "markdown",
   "metadata": {},
   "source": [
    "Variáveis Globais e locais"
   ]
  },
  {
   "cell_type": "code",
   "execution_count": 46,
   "metadata": {},
   "outputs": [],
   "source": [
    "varGlobal= 10 #essa é uma variável global\n",
    "def multiplicacao(num1, num2):\n",
    "    varglobal = (num1 * num2) #essa é uma variável local\n",
    "    print('Variável da função Multiplica: ', varGlobal)\n",
    "    "
   ]
  },
  {
   "cell_type": "code",
   "execution_count": 47,
   "metadata": {},
   "outputs": [
    {
     "name": "stdout",
     "output_type": "stream",
     "text": [
      "Variável da função Multiplica:  10\n",
      "10\n"
     ]
    }
   ],
   "source": [
    "multiplicacao(5,4)\n",
    "print(varGlobal)"
   ]
  },
  {
   "cell_type": "code",
   "execution_count": 52,
   "metadata": {},
   "outputs": [],
   "source": [
    "varGlobal= 10 #essa é uma variável global\n",
    "def multiplica(num1, num2):\n",
    "    varlocal = (num1 * num2) #essa é uma variável local\n",
    "    print('Variável da função Multiplica: ', varlocal)\n",
    "    "
   ]
  },
  {
   "cell_type": "code",
   "execution_count": 53,
   "metadata": {},
   "outputs": [
    {
     "name": "stdout",
     "output_type": "stream",
     "text": [
      "Variável da função Multiplica:  20\n"
     ]
    }
   ],
   "source": [
    "multiplica(5,4)"
   ]
  },
  {
   "cell_type": "code",
   "execution_count": 37,
   "metadata": {},
   "outputs": [
    {
     "ename": "NameError",
     "evalue": "name 'varLocal' is not defined",
     "output_type": "error",
     "traceback": [
      "\u001b[1;31m---------------------------------------------------------------------------\u001b[0m",
      "\u001b[1;31mNameError\u001b[0m                                 Traceback (most recent call last)",
      "Cell \u001b[1;32mIn[37], line 1\u001b[0m\n\u001b[1;32m----> 1\u001b[0m \u001b[38;5;28mprint\u001b[39m(\u001b[43mvarLocal\u001b[49m) \u001b[38;5;66;03m#variavel existe somente dentro da função\u001b[39;00m\n",
      "\u001b[1;31mNameError\u001b[0m: name 'varLocal' is not defined"
     ]
    }
   ],
   "source": [
    "print(varLocal) #variavel existe somente dentro da função"
   ]
  },
  {
   "cell_type": "code",
   "execution_count": 55,
   "metadata": {},
   "outputs": [],
   "source": [
    "def separarTexto(texto):\n",
    "    return texto.split() #o split separa o texto."
   ]
  },
  {
   "cell_type": "code",
   "execution_count": 56,
   "metadata": {},
   "outputs": [
    {
     "data": {
      "text/plain": [
       "['Cibele', 'Maria']"
      ]
     },
     "execution_count": 56,
     "metadata": {},
     "output_type": "execute_result"
    }
   ],
   "source": [
    "separarTexto('Cibele Maria')"
   ]
  },
  {
   "cell_type": "code",
   "execution_count": 67,
   "metadata": {},
   "outputs": [],
   "source": [
    "#Quando não sabemos a quantidade de parâmetros basta usar *\n",
    "def variosParametros(*parametros):\n",
    "    for n, item in enumerate(parametros):\n",
    "        print('Parâmetros', n, item)\n",
    "    return"
   ]
  },
  {
   "cell_type": "code",
   "execution_count": 68,
   "metadata": {},
   "outputs": [
    {
     "name": "stdout",
     "output_type": "stream",
     "text": [
      "Parâmetros 0 Cibele\n",
      "Parâmetros 1 Suely\n",
      "Parâmetros 2 Giggio\n",
      "Parâmetros 3 Madá\n",
      "Parâmetros 4 Luquinhas\n"
     ]
    }
   ],
   "source": [
    "variosParametros('Cibele', 'Suely','Giggio', 'Madá', 'Luquinhas')"
   ]
  },
  {
   "cell_type": "markdown",
   "metadata": {},
   "source": [
    "Calculadora:"
   ]
  },
  {
   "cell_type": "code",
   "execution_count": 70,
   "metadata": {},
   "outputs": [],
   "source": [
    "def soma(n1,n2):\n",
    "    return n1+n2\n",
    "\n",
    "def subtrai(n1,n2):\n",
    "    return n1-n2\n",
    "\n",
    "def multiplica(n1,n2):\n",
    "    return n1*n2\n",
    "\n",
    "def divide(n1,n2):\n",
    "    return n1/n2"
   ]
  },
  {
   "cell_type": "code",
   "execution_count": 11,
   "metadata": {},
   "outputs": [
    {
     "name": "stdout",
     "output_type": "stream",
     "text": [
      "+=================+\n",
      "| MENU DE OPERAÇÕES\n",
      "| 1 - somar        \n",
      "| 2 - subtrair     \n",
      "| 3 - multiplicar  \n",
      "| 4 - dividir      \n",
      "| 0 - sair         \n",
      "+=================+\n"
     ]
    }
   ],
   "source": [
    "while True:\n",
    "    print('+=================+')\n",
    "    print('| MENU DE OPERAÇÕES')\n",
    "    print('| 1 - somar        ')\n",
    "    print('| 2 - subtrair     ')\n",
    "    print('| 3 - multiplicar  ')\n",
    "    print('| 4 - dividir      ')\n",
    "    print('| 0 - sair         ')\n",
    "    print('+=================+')\n",
    "    \n",
    "    op= int(input())\n",
    "    break\n",
    "\n",
    "if op==0:\n",
    "    n1=int(input('Primeiro número: '))\n",
    "    n2=int(input('Seguindo número: '))\n",
    "    if op==1:\n",
    "        print('O resultado da soma é: ', soma(n1,n2))\n",
    "    elif op==2:\n",
    "        print('O resultado da subtração é: ', subtrai(n1,n2))\n",
    "    elif op==3:\n",
    "        print('O resultado da multiplicação é: ', multiplica(n1,n2))\n",
    "    elif op==4:\n",
    "        print('O resultado da divisão é: ', divide(n1,n2))\n",
    "    else:\n",
    "        print('Por favor, digite uma das opções')\n"
   ]
  },
  {
   "cell_type": "code",
   "execution_count": 13,
   "metadata": {},
   "outputs": [
    {
     "name": "stdout",
     "output_type": "stream",
     "text": [
      "+=================+\n",
      "| MENU DE OPERAÇÕES\n",
      "| 1 - somar        \n",
      "| 2 - subtrair     \n",
      "| 3 - multiplicar  \n",
      "| 4 - dividir      \n",
      "| 0 - sair         \n",
      "+=================+\n"
     ]
    },
    {
     "ename": "NameError",
     "evalue": "name 'divide' is not defined",
     "output_type": "error",
     "traceback": [
      "\u001b[1;31m---------------------------------------------------------------------------\u001b[0m",
      "\u001b[1;31mNameError\u001b[0m                                 Traceback (most recent call last)",
      "Cell \u001b[1;32mIn[13], line 23\u001b[0m\n\u001b[0;32m     21\u001b[0m         \u001b[38;5;28mprint\u001b[39m(\u001b[38;5;124m'\u001b[39m\u001b[38;5;124mO resultado da multiplicação é: \u001b[39m\u001b[38;5;124m'\u001b[39m, multiplica(n1,n2))\n\u001b[0;32m     22\u001b[0m \u001b[38;5;28;01melif\u001b[39;00m op\u001b[38;5;241m==\u001b[39m\u001b[38;5;241m4\u001b[39m:\n\u001b[1;32m---> 23\u001b[0m         \u001b[38;5;28mprint\u001b[39m(\u001b[38;5;124m'\u001b[39m\u001b[38;5;124mO resultado da divisão é: \u001b[39m\u001b[38;5;124m'\u001b[39m, \u001b[43mdivide\u001b[49m(n1,n2))\n\u001b[0;32m     24\u001b[0m \u001b[38;5;28;01melse\u001b[39;00m:\n\u001b[0;32m     25\u001b[0m         \u001b[38;5;28mprint\u001b[39m(\u001b[38;5;124m'\u001b[39m\u001b[38;5;124mPor favor, digite uma das opções\u001b[39m\u001b[38;5;124m'\u001b[39m)\n",
      "\u001b[1;31mNameError\u001b[0m: name 'divide' is not defined"
     ]
    }
   ],
   "source": [
    "while True:\n",
    "    print('+=================+')\n",
    "    print('| MENU DE OPERAÇÕES')\n",
    "    print('| 1 - somar        ')\n",
    "    print('| 2 - subtrair     ')\n",
    "    print('| 3 - multiplicar  ')\n",
    "    print('| 4 - dividir      ')\n",
    "    print('| 0 - sair         ')\n",
    "    print('+=================+')\n",
    "    \n",
    "    op= int(input())\n",
    "    break\n",
    "\n",
    "n1=int(input('Primeiro número: '))\n",
    "n2=int(input('Seguindo número: '))\n",
    "if op==1:\n",
    "        print('O resultado da soma é: ', soma(n1,n2))\n",
    "elif op==2:\n",
    "        print('O resultado da subtração é: ', subtrai(n1,n2))\n",
    "elif op==3:\n",
    "        print('O resultado da multiplicação é: ', multiplica(n1,n2))\n",
    "elif op==4:\n",
    "        print('O resultado da divisão é: ', divide(n1,n2))\n",
    "else:\n",
    "        print('Por favor, digite uma das opções')\n"
   ]
  }
 ],
 "metadata": {
  "kernelspec": {
   "display_name": "Python 3",
   "language": "python",
   "name": "python3"
  },
  "language_info": {
   "codemirror_mode": {
    "name": "ipython",
    "version": 3
   },
   "file_extension": ".py",
   "mimetype": "text/x-python",
   "name": "python",
   "nbconvert_exporter": "python",
   "pygments_lexer": "ipython3",
   "version": "3.11.9"
  }
 },
 "nbformat": 4,
 "nbformat_minor": 2
}
